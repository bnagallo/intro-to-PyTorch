{
 "cells": [
  {
   "cell_type": "markdown",
   "metadata": {},
   "source": [
    "# Neural networks with PyTorch\n",
    "\n",
    "Deep learning networks tend to be massive with dozens or hundreds of layers, that's where the term \"deep\" comes from. You can build one of these deep networks using only weight matrices as we did in the previous notebook, but in general it's very cumbersome and difficult to implement. PyTorch has a nice module `nn` that provides a nice way to efficiently build large neural networks."
   ]
  },
  {
   "cell_type": "code",
   "execution_count": 2,
   "metadata": {},
   "outputs": [],
   "source": [
    "# Import necessary packages\n",
    "\n",
    "%matplotlib inline\n",
    "%config InlineBackend.figure_format = 'retina'\n",
    "\n",
    "import numpy as np\n",
    "import torch\n",
    "\n",
    "import helper\n",
    "\n",
    "import matplotlib.pyplot as plt"
   ]
  },
  {
   "cell_type": "markdown",
   "metadata": {},
   "source": [
    "\n",
    "Now we're going to build a larger network that can solve a (formerly) difficult problem, identifying text in an image. Here we'll use the MNIST dataset which consists of greyscale handwritten digits. Each image is 28x28 pixels, you can see a sample below\n",
    "\n",
    "<img src='assets/mnist.png'>\n",
    "\n",
    "Our goal is to build a neural network that can take one of these images and predict the digit in the image.\n",
    "\n",
    "First up, we need to get our dataset. This is provided through the `torchvision` package. The code below will download the MNIST dataset, then create training and test datasets for us. Don't worry too much about the details here, you'll learn more about this later."
   ]
  },
  {
   "cell_type": "code",
   "execution_count": 6,
   "metadata": {},
   "outputs": [],
   "source": [
    "### Run this cell\n",
    "\n",
    "from torchvision import datasets, transforms\n",
    "\n",
    "# Define a transform to normalize the data\n",
    "transform = transforms.Compose([transforms.ToTensor(),\n",
    "                              transforms.Normalize((0.5,), (0.5,)),\n",
    "                              ])\n",
    "\n",
    "# Download and load the training data\n",
    "trainset = datasets.MNIST('~/.pytorch/MNIST_data/', download=True, train=True, transform=transform)\n",
    "trainloader = torch.utils.data.DataLoader(trainset, batch_size=64, shuffle=True)"
   ]
  },
  {
   "cell_type": "markdown",
   "metadata": {},
   "source": [
    "We have the training data loaded into `trainloader` and we make that an iterator with `iter(trainloader)`. Later, we'll use this to loop through the dataset for training, like\n",
    "\n",
    "```python\n",
    "for image, label in trainloader:\n",
    "    ## do things with images and labels\n",
    "```\n",
    "\n",
    "You'll notice I created the `trainloader` with a batch size of 64, and `shuffle=True`. The batch size is the number of images we get in one iteration from the data loader and pass through our network, often called a *batch*. And `shuffle=True` tells it to shuffle the dataset every time we start going through the data loader again. But here I'm just grabbing the first batch so we can check out the data. We can see below that `images` is just a tensor with size `(64, 1, 28, 28)`. So, 64 images per batch, 1 color channel, and 28x28 images."
   ]
  },
  {
   "cell_type": "code",
   "execution_count": 7,
   "metadata": {},
   "outputs": [
    {
     "name": "stdout",
     "output_type": "stream",
     "text": [
      "<class 'torch.Tensor'>\n",
      "torch.Size([64, 1, 28, 28])\n",
      "torch.Size([64])\n"
     ]
    }
   ],
   "source": [
    "dataiter = iter(trainloader)\n",
    "images, labels = dataiter.next()\n",
    "print(type(images))\n",
    "print(images.shape)\n",
    "print(labels.shape)"
   ]
  },
  {
   "cell_type": "markdown",
   "metadata": {},
   "source": [
    "This is what one of the images looks like. "
   ]
  },
  {
   "cell_type": "code",
   "execution_count": 5,
   "metadata": {},
   "outputs": [
    {
     "data": {
      "image/png": "[encoded data removed]",
      "text/plain": [
       "<Figure size 432x288 with 1 Axes>"
      ]
     },
     "metadata": {
      "image/png": {
       "height": 248,
       "width": 251
      },
      "needs_background": "light"
     },
     "output_type": "display_data"
    }
   ],
   "source": [
    "plt.imshow(images[1].numpy().squeeze(), cmap='Greys_r');"
   ]
  },
  {
   "cell_type": "markdown",
   "metadata": {},
   "source": [
    "First, let's try to build a simple network for this dataset using weight matrices and matrix multiplications. Then, we'll see how to do it using PyTorch's `nn` module which provides a much more convenient and powerful method for defining network architectures.\n",
    "\n",
    "The networks you've seen so far are called *fully-connected* or *dense* networks. Each unit in one layer is connected to each unit in the next layer. In fully-connected networks, the input to each layer must be a one-dimensional vector (which can be stacked into a 2D tensor as a batch of multiple examples). However, our images are 28x28 2D tensors, so we need to convert them into 1D vectors. Thinking about sizes, we need to convert the batch of images with shape `(64, 1, 28, 28)` to a have a shape of `(64, 784)`, 784 is 28 times 28. This is typically called *flattening*, we flattened the 2D images into 1D vectors.\n",
    "\n",
    "Previously you built a network with one output unit. Here we need 10 output units, one for each digit. We want our network to predict the digit shown in an image, so what we'll do is calculate probabilities that the image is of any one digit or class. This ends up being a discrete probability distribution over the classes (digits) that tells us the most likely class for the image. That means we need 10 output units for the 10 classes (digits). We'll see how to convert the network output into a probability distribution next.\n",
    "\n",
    "> **Exercise:** Flatten the batch of images `images`. Then build a multi-layer network with 784 input units, 256 hidden units, and 10 output units using random tensors for the weights and biases. For now, use a sigmoid activation for the hidden layer. Leave the output layer without an activation, we'll add one that gives us a probability distribution next."
   ]
  },
  {
   "cell_type": "code",
   "execution_count": 25,
   "metadata": {},
   "outputs": [
    {
     "data": {
      "text/plain": [
       "tensor([[ 11.1125,  23.9672, -13.5160,  25.4609,   4.3939, -14.8988, -18.9487,\n",
       "          10.8510,  21.1023, -16.2783],\n",
       "        [  1.9639,  12.8207,  -7.9722,  20.9681,   2.6032, -19.2708, -14.3129,\n",
       "           8.2670,  12.8532,  -9.8454],\n",
       "        [ 13.5641,  10.4588, -12.9747,  24.4419,   4.4220, -12.0186, -17.0641,\n",
       "           8.8697,  14.2250, -10.9518],\n",
       "        [  6.5586,  10.1913, -14.5263,  13.5649,   2.5982,  -1.4590, -21.1368,\n",
       "          10.9567,   8.5250,  -7.0087],\n",
       "        [ 17.7333,  13.0255, -14.8925,  24.7657,   7.5694,  -6.7770,  -7.9853,\n",
       "           6.8965,  21.1191,  -4.2310],\n",
       "        [  9.7033,   8.2348,  -9.7545,   8.0078,   0.3918,  -3.3805, -19.6296,\n",
       "          12.0917,  15.0902,  -2.9006],\n",
       "        [  3.9971,   5.9190, -19.8587,  30.3311,   3.1123,  -8.7055, -11.7725,\n",
       "           6.6776,   6.1015, -16.7976],\n",
       "        [ 10.5999,  16.4947, -16.7240,  29.9065,   1.3829,  -5.1014, -11.2441,\n",
       "           8.1185,   6.3812, -15.8159],\n",
       "        [ 10.4729,  13.8495, -14.0783,  21.8682,   3.6443,  -1.2098, -17.1712,\n",
       "           7.1905,   7.8078,  -4.0435],\n",
       "        [  8.5674,  26.1751, -10.4093,  27.1817,   8.1076, -13.9884, -12.6271,\n",
       "           5.0678,  11.4613, -14.5917],\n",
       "        [ 15.1949,  19.1217, -19.3178,  20.3180,   2.9675, -16.8128, -15.6151,\n",
       "          19.8981,  12.0740,  -4.9577],\n",
       "        [ 14.8565,  11.6539, -16.8049,  14.8458,   1.5559,  -9.2663, -19.0397,\n",
       "           6.7018,  -3.6429, -14.4333],\n",
       "        [  9.1302,  16.1081, -12.6513,  15.9853,   7.9165,  -8.0719, -18.9198,\n",
       "          -0.3141,   6.8141, -11.0125],\n",
       "        [ 12.3440,   8.1892, -12.5873,  16.3369,  -0.8303,  -0.5415, -18.0771,\n",
       "          13.5643,  14.4042,  -7.2035],\n",
       "        [ 15.7027,  11.0865, -13.8584,  27.8017,   0.8306,  -8.0001, -12.6225,\n",
       "           0.5304,   9.8507, -16.7065],\n",
       "        [  7.9906,  13.2096, -13.6043,  22.6467,   1.6891,  -8.4159, -18.5556,\n",
       "          10.7310,   5.4213,  -4.6229],\n",
       "        [  3.6743,  16.9247, -16.6847,  23.1009,  14.0314,  -6.2832,  -7.4978,\n",
       "          -5.5828,  12.7337, -14.5276],\n",
       "        [ 15.4593,  16.5197, -16.9633,  15.0371,  -1.9033,  -1.2698, -12.5120,\n",
       "           7.5091,  10.5707, -12.1415],\n",
       "        [ 12.0373,  18.9378, -10.7180,  24.6332,   7.9137, -15.2184, -14.1526,\n",
       "           7.3457,   3.1676,  -7.0569],\n",
       "        [  4.0938,   9.1799, -21.2664,  13.3986,   9.8734,  -4.0875, -17.5349,\n",
       "           6.2193,   7.1388,  -8.2301],\n",
       "        [ 12.5984,  19.2120, -19.1518,  18.6243,   0.6161,  -9.6298, -10.7251,\n",
       "           4.9323,   7.9062, -10.7622],\n",
       "        [ 15.4160,  15.2809, -14.3159,  20.7046,   2.7816,  -6.3909, -16.8683,\n",
       "          14.0110,   3.3341,  -7.2327],\n",
       "        [ -2.8949,   9.2742, -21.9629,  22.7037,  10.6110, -29.0523, -10.5668,\n",
       "          -0.6848,   7.4065, -13.9972],\n",
       "        [ 14.3441,  10.4559, -13.9305,  11.8974,   7.1372,  -8.8589, -13.8051,\n",
       "           0.6403,  -1.4903, -10.5458],\n",
       "        [ 17.8548,  20.3326, -13.0005,   9.5087,  15.7150,   0.1615,  -8.3182,\n",
       "           7.9927,  19.2610, -14.3101],\n",
       "        [  9.9448,  12.6946,  -3.4377,  24.6664,  -0.3153, -22.5048,  -0.8858,\n",
       "           1.8123,   1.9787, -21.7031],\n",
       "        [  1.8315,  16.9163, -17.6556,  21.6501,  10.2372,  -8.9577, -12.6870,\n",
       "          20.3405,  12.5806, -14.4395],\n",
       "        [  9.9165,  18.2718, -12.1842,  30.2999,   1.9281, -17.9728, -11.8102,\n",
       "          12.8275,  13.4970, -13.7880],\n",
       "        [  0.2389,  13.4649, -26.2445,  22.4272,   2.1148, -10.0978, -17.0580,\n",
       "           6.5725,   6.2178, -17.8147],\n",
       "        [ 12.4529,   7.8939, -14.9176,  22.2070,   9.3320,  -8.7756, -22.7217,\n",
       "           7.0130,  10.2457,  -9.8329],\n",
       "        [ 11.8549,  12.8044, -20.7089,  19.3270,   3.1743,  -8.4862, -16.6553,\n",
       "          16.0255,  16.1245,  -7.9106],\n",
       "        [  4.3041,  12.9093, -14.7307,  24.6509,   4.2075,  -5.8966, -15.6626,\n",
       "          12.0785,   7.2526,  -8.6970],\n",
       "        [ 10.0574,   6.6147, -17.3767,  21.2273,   4.8312, -13.0905, -14.5112,\n",
       "           9.5724,  13.4206, -15.5238],\n",
       "        [ 11.4074,   9.0106, -20.1705,  23.1943,   5.1287,  -7.0294, -20.3420,\n",
       "          11.3968,  14.4974,  -9.9316],\n",
       "        [ 15.5901,  13.1827, -13.7173,  12.3976,   5.3781,  -7.0157, -13.4751,\n",
       "          18.5628,  10.9196, -12.3149],\n",
       "        [ 10.3356,  15.9032, -18.9621,  21.3255,   1.7800,  -8.8717, -16.1238,\n",
       "          16.2019,  18.0956,  -7.4145],\n",
       "        [  4.7627,  15.4983, -20.2764,  21.0668,   5.4284, -14.8749, -10.5537,\n",
       "          -4.2888,  13.3592, -13.4921],\n",
       "        [  3.0497,   7.6946, -24.8819,   5.4931,   9.0062, -20.8844, -17.0241,\n",
       "           4.9381,   8.4608,  -7.0815],\n",
       "        [ 11.6585,  12.3409, -15.5436,  16.9676,  -0.9428,  -1.2176, -14.7010,\n",
       "          -0.3789,  -4.7005,  -7.7625],\n",
       "        [ 15.6379,  20.6731,  -4.0450,   8.1388,   4.1801, -16.6425,  -7.0582,\n",
       "           1.2496,   6.6684,  -8.6399],\n",
       "        [ 13.0829,  12.3601, -20.1698,  12.1105,  -1.3699,  -6.2111, -20.9774,\n",
       "           5.5114,   3.4479,  -4.9265],\n",
       "        [ 11.9612,  16.8371, -19.0995,  22.5366,   2.1294, -17.9360,  -8.3066,\n",
       "           5.2094,   1.2572,  -7.3337],\n",
       "        [  1.3492,   9.2410, -15.0722,  33.9328,   0.8841, -14.4017,  -7.4468,\n",
       "           2.7192,   4.1104, -11.7078],\n",
       "        [  8.4527,  21.8734,  -6.8305,  15.5788,   4.7694, -23.8041,  -9.8069,\n",
       "           6.8278,   7.5278,  -6.1485],\n",
       "        [  9.3346,  14.0799, -22.7788,  14.3390,   5.2501, -18.2393, -12.7152,\n",
       "           3.3718,   7.7234,  -3.5879],\n",
       "        [  7.7791,  13.3239, -18.0503,  12.9385,   2.3530,  -6.5162, -17.5278,\n",
       "          11.3183,   5.2278, -10.4171],\n",
       "        [ 13.3509,  17.3812, -17.2276,  11.3687,   5.9753,  -7.1991, -16.4283,\n",
       "           6.3996,  10.5954, -18.4392],\n",
       "        [  4.5686,  16.1694,  -9.0115,  23.9726,   1.4057, -13.5260, -11.9706,\n",
       "          12.9877,   8.1187, -14.1225],\n",
       "        [ 12.2022,  12.3634, -20.5588,  29.5275,   3.0158, -17.9084, -14.1491,\n",
       "          -3.5381,   3.3818, -12.8084],\n",
       "        [ 10.7773,  15.5168,  -9.2470,  34.3892,   5.7515, -15.5321, -17.5644,\n",
       "           2.3663,   7.9919, -16.4312],\n",
       "        [ 16.5746,  25.2730, -15.9654,  28.9095,   8.3719, -18.2340, -18.0912,\n",
       "           9.1373,   5.1748, -16.5864],\n",
       "        [  5.2587,  19.7212,  -2.6422,  15.6609,  -0.0749, -17.4518, -11.9972,\n",
       "           5.8321,  11.0786,  -9.0274],\n",
       "        [  5.8613,  18.6070, -11.5504,  12.8977,   4.6677, -12.1563, -16.4553,\n",
       "           9.7623,  13.1542,  -7.8798],\n",
       "        [ 13.3764,  12.1289, -18.0582,   7.7318,  -4.1842,   0.4475, -13.5700,\n",
       "           4.1168,  20.3643,  -5.7496],\n",
       "        [  1.4125,   9.7353, -11.6984,  23.6604,   4.3793, -16.7895, -12.7931,\n",
       "          15.4029,   4.5047,  -5.9311],\n",
       "        [ 15.9923,  16.2568, -23.5741,  16.9724,  -1.7777, -14.7397, -15.9900,\n",
       "          11.0773,  12.6615,  -4.7175],\n",
       "        [ 13.8136,  14.2991, -14.9508,  10.8541,  -2.7772,  -5.0302, -21.3607,\n",
       "           8.9068,   2.6364, -11.8272],\n",
       "        [ 17.5343,  13.8455, -13.3368,  24.8450,   5.0046,  -6.1371,  -8.5764,\n",
       "           7.9189,  10.9954, -16.8840],\n",
       "        [  9.6033,  12.8667, -10.5058,  12.8423,  -0.2671, -13.5022, -17.9053,\n",
       "           9.6121,  10.7469,  -3.7421],\n",
       "        [ 12.5324,  14.9276, -19.0723,  24.3733,   2.6361, -19.6941,  -5.2071,\n",
       "           0.7027,   4.8672,  -8.9393],\n",
       "        [ 14.7826,   7.3537,  -6.1461,  22.3291,   7.1737,  -9.8989, -16.2812,\n",
       "           2.0093,   3.8406,   1.1937],\n",
       "        [  5.9885,  12.7195, -12.0666,  17.9985,   3.3375, -13.0873,  -9.1111,\n",
       "           1.3819,   8.3790,  -5.8576],\n",
       "        [ 14.4940,  11.9281, -16.9667,  13.4178,  -1.4758, -10.0979,  -7.0777,\n",
       "           6.5691,  11.9852,  -5.0427],\n",
       "        [  9.8095,  15.5092, -22.6552,  11.0104,   1.0124,  -7.5086, -14.5602,\n",
       "           4.3693,   8.3898,  -6.6825]])"
      ]
     },
     "execution_count": 25,
     "metadata": {},
     "output_type": "execute_result"
    }
   ],
   "source": [
    "## Solution\n",
    "def activation(x):\n",
    "    return 1/(1+torch.exp(-x))\n",
    "\n",
    "# Flatten the input images\n",
    "inputs = images.view(images.shape[0], -1)\n",
    "\n",
    "# Create parameters\n",
    "w1 = torch.randn(784, 256)\n",
    "b1 = torch.randn(256)\n",
    "\n",
    "w2 = torch.randn(256, 10)\n",
    "b2 = torch.randn(10)\n",
    "\n",
    "h = activation(torch.mm(inputs, w1) + b1)\n",
    "\n",
    "out = torch.mm(h, w2) + b2\n",
    "\n",
    "out"
   ]
  },
  {
   "cell_type": "markdown",
   "metadata": {},
   "source": [
    "Now we have 10 outputs for our network. We want to pass in an image to our network and get out a probability distribution over the classes that tells us the likely class(es) the image belongs to. Something that looks like this:\n",
    "<img src='assets/image_distribution.png' width=500px>\n",
    "\n",
    "Here we see that the probability for each class is roughly the same. This is representing an untrained network, it hasn't seen any data yet so it just returns a uniform distribution with equal probabilities for each class.\n",
    "\n",
    "To calculate this probability distribution, we often use the [**softmax** function](https://en.wikipedia.org/wiki/Softmax_function). Mathematically this looks like\n",
    "\n",
    "$$\n",
    "\\Large \\sigma(x_i) = \\cfrac{e^{x_i}}{\\sum_k^K{e^{x_k}}}\n",
    "$$\n",
    "\n",
    "What this does is squish each input $x_i$ between 0 and 1 and normalizes the values to give you a proper probability distribution where the probabilites sum up to one.\n",
    "\n",
    "> **Exercise:** Implement a function `softmax` that performs the softmax calculation and returns probability distributions for each example in the batch. Note that you'll need to pay attention to the shapes when doing this. If you have a tensor `a` with shape `(64, 10)` and a tensor `b` with shape `(64,)`, doing `a/b` will give you an error because PyTorch will try to do the division across the columns (called broadcasting) but you'll get a size mismatch. The way to think about this is for each of the 64 examples, you only want to divide by one value, the sum in the denominator. So you need `b` to have a shape of `(64, 1)`. This way PyTorch will divide the 10 values in each row of `a` by the one value in each row of `b`. Pay attention to how you take the sum as well. You'll need to define the `dim` keyword in `torch.sum`. Setting `dim=0` takes the sum across the rows while `dim=1` takes the sum across the columns."
   ]
  },
  {
   "cell_type": "code",
   "execution_count": 26,
   "metadata": {},
   "outputs": [
    {
     "name": "stdout",
     "output_type": "stream",
     "text": [
      "torch.Size([64, 10])\n",
      "tensor([1.0000, 1.0000, 1.0000, 1.0000, 1.0000, 1.0000, 1.0000, 1.0000, 1.0000,\n",
      "        1.0000, 1.0000, 1.0000, 1.0000, 1.0000, 1.0000, 1.0000, 1.0000, 1.0000,\n",
      "        1.0000, 1.0000, 1.0000, 1.0000, 1.0000, 1.0000, 1.0000, 1.0000, 1.0000,\n",
      "        1.0000, 1.0000, 1.0000, 1.0000, 1.0000, 1.0000, 1.0000, 1.0000, 1.0000,\n",
      "        1.0000, 1.0000, 1.0000, 1.0000, 1.0000, 1.0000, 1.0000, 1.0000, 1.0000,\n",
      "        1.0000, 1.0000, 1.0000, 1.0000, 1.0000, 1.0000, 1.0000, 1.0000, 1.0000,\n",
      "        1.0000, 1.0000, 1.0000, 1.0000, 1.0000, 1.0000, 1.0000, 1.0000, 1.0000,\n",
      "        1.0000])\n"
     ]
    }
   ],
   "source": [
    "def softmax(x):\n",
    "    ## TODO: Implement the softmax function here\n",
    "    return torch.exp(x)/torch.sum(torch.exp(x), dim=1).view(-1,1)\n",
    "\n",
    "# Here, out should be the output of the network in the previous excercise with shape (64,10)\n",
    "probabilities = softmax(out)\n",
    "\n",
    "# Does it have the right shape? Should be (64, 10)\n",
    "print(probabilities.shape)\n",
    "# Does it sum to 1?\n",
    "print(probabilities.sum(dim=1))"
   ]
  },
  {
   "cell_type": "markdown",
   "metadata": {},
   "source": [
    "## Building networks with PyTorch\n",
    "\n",
    "PyTorch provides a module `nn` that makes building networks much simpler. Here I'll show you how to build the same one as above with 784 inputs, 256 hidden units, 10 output units and a softmax output."
   ]
  },
  {
   "cell_type": "code",
   "execution_count": 27,
   "metadata": {},
   "outputs": [],
   "source": [
    "from torch import nn"
   ]
  },
  {
   "cell_type": "code",
   "execution_count": 28,
   "metadata": {},
   "outputs": [],
   "source": [
    "class Network(nn.Module):\n",
    "    def __init__(self):\n",
    "        super().__init__()\n",
    "        \n",
    "        # Inputs to hidden layer linear transformation\n",
    "        self.hidden = nn.Linear(784, 256)\n",
    "        # Output layer, 10 units - one for each digit\n",
    "        self.output = nn.Linear(256, 10)\n",
    "        \n",
    "        # Define sigmoid activation and softmax output \n",
    "        self.sigmoid = nn.Sigmoid()\n",
    "        self.softmax = nn.Softmax(dim=1)\n",
    "        \n",
    "    def forward(self, x):\n",
    "        # Pass the input tensor through each of our operations\n",
    "        x = self.hidden(x)\n",
    "        x = self.sigmoid(x)\n",
    "        x = self.output(x)\n",
    "        x = self.softmax(x)\n",
    "        \n",
    "        return x"
   ]
  },
  {
   "cell_type": "markdown",
   "metadata": {},
   "source": [
    "Let's go through this bit by bit.\n",
    "\n",
    "```python\n",
    "class Network(nn.Module):\n",
    "```\n",
    "\n",
    "Here we're inheriting from `nn.Module`. Combined with `super().__init__()` this creates a class that tracks the architecture and provides a lot of useful methods and attributes. It is mandatory to inherit from `nn.Module` when you're creating a class for your network. The name of the class itself can be anything.\n",
    "\n",
    "```python\n",
    "self.hidden = nn.Linear(784, 256)\n",
    "```\n",
    "\n",
    "This line creates a module for a linear transformation, $x\\mathbf{W} + b$, with 784 inputs and 256 outputs and assigns it to `self.hidden`. The module automatically creates the weight and bias tensors which we'll use in the `forward` method. You can access the weight and bias tensors once the network (`net`) is created with `net.hidden.weight` and `net.hidden.bias`.\n",
    "\n",
    "```python\n",
    "self.output = nn.Linear(256, 10)\n",
    "```\n",
    "\n",
    "Similarly, this creates another linear transformation with 256 inputs and 10 outputs.\n",
    "\n",
    "```python\n",
    "self.sigmoid = nn.Sigmoid()\n",
    "self.softmax = nn.Softmax(dim=1)\n",
    "```\n",
    "\n",
    "Here I defined operations for the sigmoid activation and softmax output. Setting `dim=1` in `nn.Softmax(dim=1)` calculates softmax across the columns.\n",
    "\n",
    "```python\n",
    "def forward(self, x):\n",
    "```\n",
    "\n",
    "PyTorch networks created with `nn.Module` must have a `forward` method defined. It takes in a tensor `x` and passes it through the operations you defined in the `__init__` method.\n",
    "\n",
    "```python\n",
    "x = self.hidden(x)\n",
    "x = self.sigmoid(x)\n",
    "x = self.output(x)\n",
    "x = self.softmax(x)\n",
    "```\n",
    "\n",
    "Here the input tensor `x` is passed through each operation and reassigned to `x`. We can see that the input tensor goes through the hidden layer, then a sigmoid function, then the output layer, and finally the softmax function. It doesn't matter what you name the variables here, as long as the inputs and outputs of the operations match the network architecture you want to build. The order in which you define things in the `__init__` method doesn't matter, but you'll need to sequence the operations correctly in the `forward` method.\n",
    "\n",
    "Now we can create a `Network` object."
   ]
  },
  {
   "cell_type": "code",
   "execution_count": 29,
   "metadata": {},
   "outputs": [
    {
     "data": {
      "text/plain": [
       "Network(\n",
       "  (hidden): Linear(in_features=784, out_features=256, bias=True)\n",
       "  (output): Linear(in_features=256, out_features=10, bias=True)\n",
       "  (sigmoid): Sigmoid()\n",
       "  (softmax): Softmax(dim=1)\n",
       ")"
      ]
     },
     "execution_count": 29,
     "metadata": {},
     "output_type": "execute_result"
    }
   ],
   "source": [
    "# Create the network and look at it's text representation\n",
    "model = Network()\n",
    "model"
   ]
  },
  {
   "cell_type": "markdown",
   "metadata": {},
   "source": [
    "You can define the network somewhat more concisely and clearly using the `torch.nn.functional` module. This is the most common way you'll see networks defined as many operations are simple element-wise functions. We normally import this module as `F`, `import torch.nn.functional as F`."
   ]
  },
  {
   "cell_type": "code",
   "execution_count": 30,
   "metadata": {},
   "outputs": [],
   "source": [
    "import torch.nn.functional as F\n",
    "\n",
    "class Network(nn.Module):\n",
    "    def __init__(self):\n",
    "        super().__init__()\n",
    "        # Inputs to hidden layer linear transformation\n",
    "        self.hidden = nn.Linear(784, 256)\n",
    "        # Output layer, 10 units - one for each digit\n",
    "        self.output = nn.Linear(256, 10)\n",
    "        \n",
    "    def forward(self, x):\n",
    "        # Hidden layer with sigmoid activation\n",
    "        x = F.sigmoid(self.hidden(x))\n",
    "        # Output layer with softmax activation\n",
    "        x = F.softmax(self.output(x), dim=1)\n",
    "        \n",
    "        return x"
   ]
  },
  {
   "cell_type": "markdown",
   "metadata": {},
   "source": [
    "### Activation functions\n",
    "\n",
    "So far we've only been looking at the sigmoid activation function, but in general any function can be used as an activation function. The only requirement is that for a network to approximate a non-linear function, the activation functions must be non-linear. Here are a few more examples of common activation functions: Tanh (hyperbolic tangent), and ReLU (rectified linear unit).\n",
    "\n",
    "<img src=\"assets/activation.png\" width=700px>\n",
    "\n",
    "In practice, the ReLU function is used almost exclusively as the activation function for hidden layers."
   ]
  },
  {
   "cell_type": "markdown",
   "metadata": {},
   "source": [
    "### Your Turn to Build a Network\n",
    "\n",
    "<img src=\"assets/mlp_mnist.png\" width=600px>\n",
    "\n",
    "> **Exercise:** Create a network with 784 input units, a hidden layer with 128 units and a ReLU activation, then a hidden layer with 64 units and a ReLU activation, and finally an output layer with a softmax activation as shown above. You can use a ReLU activation with the `nn.ReLU` module or `F.relu` function.\n",
    "\n",
    "It's good practice to name your layers by their type of network, for instance 'fc' to represent a fully-connected layer. As you code your solution, use `fc1`, `fc2`, and `fc3` as your layer names."
   ]
  },
  {
   "cell_type": "code",
   "execution_count": 34,
   "metadata": {
    "scrolled": true
   },
   "outputs": [
    {
     "data": {
      "text/plain": [
       "Network(\n",
       "  (fc1): Linear(in_features=784, out_features=128, bias=True)\n",
       "  (fc2): Linear(in_features=128, out_features=64, bias=True)\n",
       "  (fc3): Linear(in_features=64, out_features=10, bias=True)\n",
       ")"
      ]
     },
     "execution_count": 34,
     "metadata": {},
     "output_type": "execute_result"
    }
   ],
   "source": [
    "## Solution\n",
    "\n",
    "class Network(nn.Module):\n",
    "    def __init__(self):\n",
    "        super().__init__()\n",
    "        # Defining the layers, 128, 64, 10 units each\n",
    "        self.fc1 = nn.Linear(784, 128)\n",
    "        self.fc2 = nn.Linear(128, 64)\n",
    "        # Output layer, 10 units - one for each digit\n",
    "        self.fc3 = nn.Linear(64, 10)\n",
    "        \n",
    "    def forward(self, x):\n",
    "        ''' Forward pass through the network, returns the output logits '''\n",
    "        \n",
    "        x = self.fc1(x)\n",
    "        x = F.relu(x)\n",
    "        x = self.fc2(x)\n",
    "        x = F.relu(x)\n",
    "        x = self.fc3(x)\n",
    "        x = F.softmax(x, dim=1)\n",
    "        \n",
    "        return x\n",
    "\n",
    "model = Network()\n",
    "model"
   ]
  },
  {
   "cell_type": "markdown",
   "metadata": {},
   "source": [
    "### Initializing weights and biases\n",
    "\n",
    "The weights and such are automatically initialized for you, but it's possible to customize how they are initialized. The weights and biases are tensors attached to the layer you defined, you can get them with `model.fc1.weight` for instance."
   ]
  },
  {
   "cell_type": "code",
   "execution_count": 35,
   "metadata": {},
   "outputs": [
    {
     "name": "stdout",
     "output_type": "stream",
     "text": [
      "Parameter containing:\n",
      "tensor([[ 0.0092, -0.0357, -0.0199,  ..., -0.0348,  0.0051,  0.0290],\n",
      "        [-0.0040, -0.0071,  0.0097,  ...,  0.0354,  0.0230,  0.0116],\n",
      "        [ 0.0210, -0.0307,  0.0196,  ..., -0.0287, -0.0001, -0.0158],\n",
      "        ...,\n",
      "        [-0.0049,  0.0276,  0.0282,  ...,  0.0197, -0.0229,  0.0153],\n",
      "        [-0.0315, -0.0005,  0.0108,  ...,  0.0084, -0.0193, -0.0284],\n",
      "        [-0.0004, -0.0352, -0.0103,  ..., -0.0221,  0.0296,  0.0209]],\n",
      "       requires_grad=True)\n",
      "Parameter containing:\n",
      "tensor([ 2.5616e-02,  4.8374e-03, -3.0581e-02,  4.2614e-03,  3.3062e-02,\n",
      "         3.1799e-02,  2.4060e-02,  2.2170e-04,  3.1628e-02, -1.5106e-02,\n",
      "        -2.1618e-05, -4.2911e-03, -2.1513e-02,  6.5913e-03,  2.0131e-02,\n",
      "        -1.1486e-02, -3.5587e-02, -9.5245e-03, -1.8520e-02, -2.9121e-02,\n",
      "         3.5685e-02,  9.5885e-03,  2.8978e-02,  3.3766e-02,  1.7897e-02,\n",
      "         2.4335e-02, -8.4111e-03, -1.0209e-02, -3.3675e-02,  8.9097e-03,\n",
      "         7.9784e-03,  6.7361e-03,  2.7161e-02,  2.9787e-02,  1.6640e-02,\n",
      "        -3.2146e-02, -7.2202e-03,  3.4728e-02, -2.7656e-02, -3.3483e-02,\n",
      "         1.6482e-02,  2.1081e-02,  1.1443e-02,  1.9286e-02, -3.1059e-02,\n",
      "         1.4820e-02,  1.8289e-02, -2.6206e-03, -8.7751e-03,  2.5447e-02,\n",
      "         9.5865e-03,  1.2478e-02, -2.8068e-02,  2.2534e-02,  1.5940e-02,\n",
      "        -1.4129e-02, -4.8065e-03,  2.0988e-02,  2.1900e-03,  1.4857e-02,\n",
      "        -2.9183e-03,  1.8911e-02,  3.2237e-02, -2.9312e-02, -2.3473e-02,\n",
      "         2.4753e-02,  1.7426e-02,  1.2038e-02, -1.2293e-03,  1.0149e-02,\n",
      "         1.0967e-03, -1.3747e-02,  2.8014e-02,  8.3122e-04,  3.5695e-02,\n",
      "         1.2378e-02, -9.2439e-03, -2.5520e-02, -1.9364e-02,  2.3992e-02,\n",
      "        -1.6500e-02,  1.1014e-02,  1.5715e-02, -2.7764e-02,  1.8406e-02,\n",
      "        -2.0109e-02, -1.6213e-02, -1.7444e-02, -2.0878e-02,  1.9594e-02,\n",
      "         4.3936e-03,  3.4067e-02,  1.8032e-02, -3.5290e-03,  1.0053e-02,\n",
      "         2.9160e-02, -2.7080e-02, -1.1026e-02, -1.7577e-02,  2.4635e-03,\n",
      "         2.2024e-02,  2.8771e-02, -2.6771e-02,  1.8609e-02,  8.5035e-03,\n",
      "        -1.3019e-02, -6.5063e-03, -3.0474e-03, -1.2226e-02,  1.9248e-02,\n",
      "         1.5357e-02,  1.6338e-02,  4.6881e-03, -1.2368e-02, -2.6706e-02,\n",
      "         2.2175e-02, -5.7667e-03, -1.7577e-03, -2.5860e-02, -2.6715e-02,\n",
      "        -3.2255e-02, -2.1572e-03,  2.6492e-02,  2.6057e-02,  2.6225e-02,\n",
      "        -1.1944e-03,  1.3780e-02,  6.6210e-03], requires_grad=True)\n"
     ]
    }
   ],
   "source": [
    "print(model.fc1.weight)\n",
    "print(model.fc1.bias)"
   ]
  },
  {
   "cell_type": "markdown",
   "metadata": {},
   "source": [
    "For custom initialization, we want to modify these tensors in place. These are actually autograd *Variables*, so we need to get back the actual tensors with `model.fc1.weight.data`. Once we have the tensors, we can fill them with zeros (for biases) or random normal values."
   ]
  },
  {
   "cell_type": "code",
   "execution_count": 36,
   "metadata": {},
   "outputs": [
    {
     "data": {
      "text/plain": [
       "tensor([0., 0., 0., 0., 0., 0., 0., 0., 0., 0., 0., 0., 0., 0., 0., 0., 0., 0., 0., 0., 0., 0., 0., 0.,\n",
       "        0., 0., 0., 0., 0., 0., 0., 0., 0., 0., 0., 0., 0., 0., 0., 0., 0., 0., 0., 0., 0., 0., 0., 0.,\n",
       "        0., 0., 0., 0., 0., 0., 0., 0., 0., 0., 0., 0., 0., 0., 0., 0., 0., 0., 0., 0., 0., 0., 0., 0.,\n",
       "        0., 0., 0., 0., 0., 0., 0., 0., 0., 0., 0., 0., 0., 0., 0., 0., 0., 0., 0., 0., 0., 0., 0., 0.,\n",
       "        0., 0., 0., 0., 0., 0., 0., 0., 0., 0., 0., 0., 0., 0., 0., 0., 0., 0., 0., 0., 0., 0., 0., 0.,\n",
       "        0., 0., 0., 0., 0., 0., 0., 0.])"
      ]
     },
     "execution_count": 36,
     "metadata": {},
     "output_type": "execute_result"
    }
   ],
   "source": [
    "# Set biases to all zeros\n",
    "model.fc1.bias.data.fill_(0)"
   ]
  },
  {
   "cell_type": "code",
   "execution_count": 37,
   "metadata": {},
   "outputs": [
    {
     "data": {
      "text/plain": [
       "tensor([[ 0.0009,  0.0028,  0.0053,  ..., -0.0122, -0.0182, -0.0015],\n",
       "        [ 0.0039,  0.0053, -0.0057,  ...,  0.0269, -0.0044, -0.0119],\n",
       "        [ 0.0163,  0.0135, -0.0080,  ...,  0.0132, -0.0055, -0.0007],\n",
       "        ...,\n",
       "        [-0.0014, -0.0008, -0.0079,  ...,  0.0197,  0.0020, -0.0011],\n",
       "        [ 0.0032,  0.0050,  0.0038,  ..., -0.0002,  0.0092, -0.0081],\n",
       "        [ 0.0049,  0.0075,  0.0056,  ...,  0.0110, -0.0115,  0.0037]])"
      ]
     },
     "execution_count": 37,
     "metadata": {},
     "output_type": "execute_result"
    }
   ],
   "source": [
    "# sample from random normal with standard dev = 0.01\n",
    "model.fc1.weight.data.normal_(std=0.01)"
   ]
  },
  {
   "cell_type": "markdown",
   "metadata": {},
   "source": [
    "### Forward pass\n",
    "\n",
    "Now that we have a network, let's see what happens when we pass in an image."
   ]
  },
  {
   "cell_type": "code",
   "execution_count": 38,
   "metadata": {},
   "outputs": [
    {
     "data": {
      "image/png": "[encoded data removed]",
      "text/plain": [
       "<Figure size 432x648 with 2 Axes>"
      ]
     },
     "metadata": {
      "image/png": {
       "height": 235,
       "width": 424
      },
      "needs_background": "light"
     },
     "output_type": "display_data"
    }
   ],
   "source": [
    "# Grab some data \n",
    "dataiter = iter(trainloader)\n",
    "images, labels = dataiter.next()\n",
    "\n",
    "# Resize images into a 1D vector, new shape is (batch size, color channels, image pixels) \n",
    "images.resize_(64, 1, 784)\n",
    "# or images.resize_(images.shape[0], 1, 784) to automatically get batch size\n",
    "\n",
    "# Forward pass through the network\n",
    "img_idx = 0\n",
    "ps = model.forward(images[img_idx,:])\n",
    "\n",
    "img = images[img_idx]\n",
    "helper.view_classify(img.view(1, 28, 28), ps)"
   ]
  },
  {
   "cell_type": "markdown",
   "metadata": {},
   "source": [
    "As you can see above, our network has basically no idea what this digit is. It's because we haven't trained it yet, all the weights are random!\n",
    "\n",
    "### Using `nn.Sequential`\n",
    "\n",
    "PyTorch provides a convenient way to build networks like this where a tensor is passed sequentially through operations, `nn.Sequential` ([documentation](https://pytorch.org/docs/master/nn.html#torch.nn.Sequential)). Using this to build the equivalent network:"
   ]
  },
  {
   "cell_type": "code",
   "execution_count": 39,
   "metadata": {},
   "outputs": [
    {
     "name": "stdout",
     "output_type": "stream",
     "text": [
      "Sequential(\n",
      "  (0): Linear(in_features=784, out_features=128, bias=True)\n",
      "  (1): ReLU()\n",
      "  (2): Linear(in_features=128, out_features=64, bias=True)\n",
      "  (3): ReLU()\n",
      "  (4): Linear(in_features=64, out_features=10, bias=True)\n",
      "  (5): Softmax(dim=1)\n",
      ")\n"
     ]
    },
    {
     "data": {
      "image/png": "[encoded data removed]",
      "text/plain": [
       "<Figure size 432x648 with 2 Axes>"
      ]
     },
     "metadata": {
      "image/png": {
       "height": 235,
       "width": 424
      },
      "needs_background": "light"
     },
     "output_type": "display_data"
    }
   ],
   "source": [
    "# Hyperparameters for our network\n",
    "input_size = 784\n",
    "hidden_sizes = [128, 64]\n",
    "output_size = 10\n",
    "\n",
    "# Build a feed-forward network\n",
    "model = nn.Sequential(nn.Linear(input_size, hidden_sizes[0]),\n",
    "                      nn.ReLU(),\n",
    "                      nn.Linear(hidden_sizes[0], hidden_sizes[1]),\n",
    "                      nn.ReLU(),\n",
    "                      nn.Linear(hidden_sizes[1], output_size),\n",
    "                      nn.Softmax(dim=1))\n",
    "print(model)\n",
    "\n",
    "# Forward pass through the network and display output\n",
    "images, labels = next(iter(trainloader))\n",
    "images.resize_(images.shape[0], 1, 784)\n",
    "ps = model.forward(images[0,:])\n",
    "helper.view_classify(images[0].view(1, 28, 28), ps)"
   ]
  },
  {
   "cell_type": "markdown",
   "metadata": {},
   "source": [
    "Here our model is the same as before: 784 input units, a hidden layer with 128 units, ReLU activation, 64 unit hidden layer, another ReLU, then the output layer with 10 units, and the softmax output.\n",
    "\n",
    "The operations are available by passing in the appropriate index. For example, if you want to get first Linear operation and look at the weights, you'd use `model[0]`."
   ]
  },
  {
   "cell_type": "code",
   "execution_count": 40,
   "metadata": {},
   "outputs": [
    {
     "name": "stdout",
     "output_type": "stream",
     "text": [
      "Linear(in_features=784, out_features=128, bias=True)\n"
     ]
    },
    {
     "data": {
      "text/plain": [
       "Parameter containing:\n",
       "tensor([[ 0.0236,  0.0011, -0.0287,  ..., -0.0239, -0.0253,  0.0289],\n",
       "        [-0.0193, -0.0019,  0.0299,  ...,  0.0294,  0.0004,  0.0200],\n",
       "        [-0.0311, -0.0278, -0.0199,  ..., -0.0274,  0.0149, -0.0202],\n",
       "        ...,\n",
       "        [-0.0143,  0.0283, -0.0112,  ...,  0.0192, -0.0140,  0.0240],\n",
       "        [-0.0233,  0.0029,  0.0079,  ..., -0.0029, -0.0219, -0.0318],\n",
       "        [-0.0065, -0.0143,  0.0260,  ..., -0.0284, -0.0047,  0.0326]],\n",
       "       requires_grad=True)"
      ]
     },
     "execution_count": 40,
     "metadata": {},
     "output_type": "execute_result"
    }
   ],
   "source": [
    "print(model[0])\n",
    "model[0].weight"
   ]
  },
  {
   "cell_type": "markdown",
   "metadata": {},
   "source": [
    "You can also pass in an `OrderedDict` to name the individual layers and operations, instead of using incremental integers. Note that dictionary keys must be unique, so _each operation must have a different name_."
   ]
  },
  {
   "cell_type": "code",
   "execution_count": 41,
   "metadata": {},
   "outputs": [
    {
     "data": {
      "text/plain": [
       "Sequential(\n",
       "  (fc1): Linear(in_features=784, out_features=128, bias=True)\n",
       "  (relu1): ReLU()\n",
       "  (fc2): Linear(in_features=128, out_features=64, bias=True)\n",
       "  (relu2): ReLU()\n",
       "  (output): Linear(in_features=64, out_features=10, bias=True)\n",
       "  (softmax): Softmax(dim=1)\n",
       ")"
      ]
     },
     "execution_count": 41,
     "metadata": {},
     "output_type": "execute_result"
    }
   ],
   "source": [
    "from collections import OrderedDict\n",
    "model = nn.Sequential(OrderedDict([\n",
    "                      ('fc1', nn.Linear(input_size, hidden_sizes[0])),\n",
    "                      ('relu1', nn.ReLU()),\n",
    "                      ('fc2', nn.Linear(hidden_sizes[0], hidden_sizes[1])),\n",
    "                      ('relu2', nn.ReLU()),\n",
    "                      ('output', nn.Linear(hidden_sizes[1], output_size)),\n",
    "                      ('softmax', nn.Softmax(dim=1))]))\n",
    "model"
   ]
  },
  {
   "cell_type": "markdown",
   "metadata": {},
   "source": [
    "Now you can access layers either by integer or the name"
   ]
  },
  {
   "cell_type": "code",
   "execution_count": 42,
   "metadata": {},
   "outputs": [
    {
     "name": "stdout",
     "output_type": "stream",
     "text": [
      "Linear(in_features=784, out_features=128, bias=True)\n",
      "Linear(in_features=784, out_features=128, bias=True)\n"
     ]
    }
   ],
   "source": [
    "print(model[0])\n",
    "print(model.fc1)"
   ]
  },
  {
   "cell_type": "markdown",
   "metadata": {},
   "source": [
    "In the next notebook, we'll see how we can train a neural network to accuractly predict the numbers appearing in the MNIST images."
   ]
  }
 ],
 "metadata": {
  "kernelspec": {
   "display_name": "Python 3",
   "language": "python",
   "name": "python3"
  },
  "language_info": {
   "codemirror_mode": {
    "name": "ipython",
    "version": 3
   },
   "file_extension": ".py",
   "mimetype": "text/x-python",
   "name": "python",
   "nbconvert_exporter": "python",
   "pygments_lexer": "ipython3",
   "version": "3.8.5"
  }
 },
 "nbformat": 4,
 "nbformat_minor": 2
}
